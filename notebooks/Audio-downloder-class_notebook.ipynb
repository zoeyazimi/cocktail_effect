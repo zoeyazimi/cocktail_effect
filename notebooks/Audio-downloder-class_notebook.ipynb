{
 "cells": [
  {
   "cell_type": "code",
   "execution_count": 1,
   "id": "d525d913",
   "metadata": {},
   "outputs": [],
   "source": [
    "#download class\n",
    "import os\n",
    "import sys\n",
    "import pandas as pd\n",
    "sys.path.append(\"../cocktail_effect/data\")  # path to the AVHandler.py\n",
    "import AVHandler as avh"
   ]
  },
  {
   "cell_type": "code",
   "execution_count": 2,
   "id": "7888cb06",
   "metadata": {},
   "outputs": [],
   "source": [
    "#instruction https://github.com/bill9800/speech_separation/blob/master/data/README.md \n",
    "#Get into data/audio/catalog and download train.csv and test.csv from AVspeech\n",
    "import pandas as pd\n",
    "#local folder\n",
    "data=pd.read_csv(\"../raw_data/avspeech_test.csv\")\n",
    "#google colab"
   ]
  },
  {
   "cell_type": "code",
   "execution_count": 3,
   "id": "138fed7b",
   "metadata": {},
   "outputs": [],
   "source": [
    "header = [\"link\", \"start_time\", \"end_time\", \"x_coord\", \"y_coord\"]\n",
    "cat_train= pd.read_csv('../raw_data/avspeech_train.csv', names=header)\n",
    "#cat_test = pd.read_csv('catalog/avspeech_test.csv', names=header)"
   ]
  },
  {
   "cell_type": "code",
   "execution_count": 4,
   "id": "1b710f19",
   "metadata": {},
   "outputs": [],
   "source": [
    "from  cocktail_effect.data.audio.audio_download import AudioDownload"
   ]
  },
  {
   "cell_type": "code",
   "execution_count": 5,
   "id": "3145c1d8",
   "metadata": {},
   "outputs": [],
   "source": [
    "audio=AudioDownload(loc=\"../audio_train/\",\n",
    "name=\"audio\",\n",
    "cat=cat_train,\n",
    "start_idx=1,\n",
    "end_idx=5\n",
    ")"
   ]
  },
  {
   "cell_type": "code",
   "execution_count": 6,
   "id": "71d2fc6f",
   "metadata": {},
   "outputs": [
    {
     "data": {
      "text/html": [
       "<div>\n",
       "<style scoped>\n",
       "    .dataframe tbody tr th:only-of-type {\n",
       "        vertical-align: middle;\n",
       "    }\n",
       "\n",
       "    .dataframe tbody tr th {\n",
       "        vertical-align: top;\n",
       "    }\n",
       "\n",
       "    .dataframe thead th {\n",
       "        text-align: right;\n",
       "    }\n",
       "</style>\n",
       "<table border=\"1\" class=\"dataframe\">\n",
       "  <thead>\n",
       "    <tr style=\"text-align: right;\">\n",
       "      <th></th>\n",
       "      <th>link</th>\n",
       "      <th>start_time</th>\n",
       "      <th>end_time</th>\n",
       "      <th>x_coord</th>\n",
       "      <th>y_coord</th>\n",
       "    </tr>\n",
       "  </thead>\n",
       "  <tbody>\n",
       "    <tr>\n",
       "      <th>0</th>\n",
       "      <td>CJoOwXcjhds</td>\n",
       "      <td>233.266000</td>\n",
       "      <td>239.367000</td>\n",
       "      <td>0.780469</td>\n",
       "      <td>0.670833</td>\n",
       "    </tr>\n",
       "    <tr>\n",
       "      <th>1</th>\n",
       "      <td>AvWWVOgaMlk</td>\n",
       "      <td>90.000000</td>\n",
       "      <td>93.566667</td>\n",
       "      <td>0.586719</td>\n",
       "      <td>0.311111</td>\n",
       "    </tr>\n",
       "    <tr>\n",
       "      <th>2</th>\n",
       "      <td>Y8HMIm8mdns</td>\n",
       "      <td>171.607767</td>\n",
       "      <td>174.607767</td>\n",
       "      <td>0.505729</td>\n",
       "      <td>0.240741</td>\n",
       "    </tr>\n",
       "    <tr>\n",
       "      <th>3</th>\n",
       "      <td>akwvpAiLFk0</td>\n",
       "      <td>144.680000</td>\n",
       "      <td>150.000000</td>\n",
       "      <td>0.698438</td>\n",
       "      <td>0.288889</td>\n",
       "    </tr>\n",
       "    <tr>\n",
       "      <th>4</th>\n",
       "      <td>Swss72CHSWg</td>\n",
       "      <td>90.023267</td>\n",
       "      <td>97.297200</td>\n",
       "      <td>0.230729</td>\n",
       "      <td>0.204630</td>\n",
       "    </tr>\n",
       "    <tr>\n",
       "      <th>...</th>\n",
       "      <td>...</td>\n",
       "      <td>...</td>\n",
       "      <td>...</td>\n",
       "      <td>...</td>\n",
       "      <td>...</td>\n",
       "    </tr>\n",
       "    <tr>\n",
       "      <th>2621840</th>\n",
       "      <td>Ki8M7q-jjq4</td>\n",
       "      <td>120.055044</td>\n",
       "      <td>124.664600</td>\n",
       "      <td>0.495312</td>\n",
       "      <td>0.456944</td>\n",
       "    </tr>\n",
       "    <tr>\n",
       "      <th>2621841</th>\n",
       "      <td>lI8yey-mlhM</td>\n",
       "      <td>54.654000</td>\n",
       "      <td>58.625000</td>\n",
       "      <td>0.507812</td>\n",
       "      <td>0.283333</td>\n",
       "    </tr>\n",
       "    <tr>\n",
       "      <th>2621842</th>\n",
       "      <td>IcL3dkz0RYc</td>\n",
       "      <td>109.566667</td>\n",
       "      <td>120.000000</td>\n",
       "      <td>0.467187</td>\n",
       "      <td>0.458333</td>\n",
       "    </tr>\n",
       "    <tr>\n",
       "      <th>2621843</th>\n",
       "      <td>xGrSQo3FAiA</td>\n",
       "      <td>137.996167</td>\n",
       "      <td>141.399567</td>\n",
       "      <td>0.746875</td>\n",
       "      <td>0.362500</td>\n",
       "    </tr>\n",
       "    <tr>\n",
       "      <th>2621844</th>\n",
       "      <td>Fia8MSLPoWU</td>\n",
       "      <td>15.115000</td>\n",
       "      <td>29.714000</td>\n",
       "      <td>0.439063</td>\n",
       "      <td>0.434722</td>\n",
       "    </tr>\n",
       "  </tbody>\n",
       "</table>\n",
       "<p>2621845 rows × 5 columns</p>\n",
       "</div>"
      ],
      "text/plain": [
       "                link  start_time    end_time   x_coord   y_coord\n",
       "0        CJoOwXcjhds  233.266000  239.367000  0.780469  0.670833\n",
       "1        AvWWVOgaMlk   90.000000   93.566667  0.586719  0.311111\n",
       "2        Y8HMIm8mdns  171.607767  174.607767  0.505729  0.240741\n",
       "3        akwvpAiLFk0  144.680000  150.000000  0.698438  0.288889\n",
       "4        Swss72CHSWg   90.023267   97.297200  0.230729  0.204630\n",
       "...              ...         ...         ...       ...       ...\n",
       "2621840  Ki8M7q-jjq4  120.055044  124.664600  0.495312  0.456944\n",
       "2621841  lI8yey-mlhM   54.654000   58.625000  0.507812  0.283333\n",
       "2621842  IcL3dkz0RYc  109.566667  120.000000  0.467187  0.458333\n",
       "2621843  xGrSQo3FAiA  137.996167  141.399567  0.746875  0.362500\n",
       "2621844  Fia8MSLPoWU   15.115000   29.714000  0.439063  0.434722\n",
       "\n",
       "[2621845 rows x 5 columns]"
      ]
     },
     "execution_count": 6,
     "metadata": {},
     "output_type": "execute_result"
    }
   ],
   "source": [
    "cat_train"
   ]
  },
  {
   "cell_type": "code",
   "execution_count": 7,
   "id": "63d9d441",
   "metadata": {},
   "outputs": [
    {
     "data": {
      "text/plain": [
       "'CJoOwXcjhds'"
      ]
     },
     "execution_count": 7,
     "metadata": {},
     "output_type": "execute_result"
    }
   ],
   "source": [
    "id=cat_train.loc[0,'link']\n",
    "id"
   ]
  },
  {
   "cell_type": "code",
   "execution_count": 8,
   "id": "27e4bbfb",
   "metadata": {},
   "outputs": [
    {
     "data": {
      "text/plain": [
       "'https://www.youtube.com/watch?v=CJoOwXcjhds'"
      ]
     },
     "execution_count": 8,
     "metadata": {},
     "output_type": "execute_result"
    }
   ],
   "source": [
    "audio.m_link(id)"
   ]
  },
  {
   "cell_type": "code",
   "execution_count": 9,
   "id": "550b2ba2",
   "metadata": {},
   "outputs": [
    {
     "name": "stdout",
     "output_type": "stream",
     "text": [
      "Requirement already satisfied: youtube-dl in /Users/shu/.pyenv/versions/3.8.12/envs/cocktail_effect/lib/python3.8/site-packages (2021.12.17)\n",
      "Note: you may need to restart the kernel to use updated packages.\n"
     ]
    }
   ],
   "source": [
    "pip install youtube-dl "
   ]
  },
  {
   "cell_type": "code",
   "execution_count": null,
   "id": "07e7fb2d",
   "metadata": {},
   "outputs": [
    {
     "name": "stdout",
     "output_type": "stream",
     "text": [
      "[youtube] AvWWVOgaMlk: Downloading webpage\n",
      "[download] Destination: oaudio1.wav\n",
      "[download]  59.5% of 19.50MiB at 62.22KiB/s ETA 02:09:47"
     ]
    },
    {
     "name": "stderr",
     "output_type": "stream",
     "text": [
      "\n",
      "ERROR: Interrupted by user\n",
      "sh: ffmpeg: command not found\n",
      "rm: oaudio1.wav: No such file or directory\n",
      "sh: sox: command not found\n",
      "rm: audio1.wav: No such file or directory\n"
     ]
    },
    {
     "name": "stdout",
     "output_type": "stream",
     "text": [
      "[youtube] Y8HMIm8mdns: Downloading webpage\n",
      "[youtube] Y8HMIm8mdns: Downloading MPD manifest\n",
      "[download] Destination: oaudio2.wav\n",
      "[download]   4.4% of 6.42MiB at 56.93KiB/s ETA 01:50"
     ]
    },
    {
     "name": "stderr",
     "output_type": "stream",
     "text": [
      "\n",
      "ERROR: Interrupted by user\n",
      "sh: ffmpeg: command not found\n",
      "rm: oaudio2.wav: No such file or directory\n",
      "sh: sox: command not found\n",
      "rm: audio2.wav: No such file or directory\n"
     ]
    },
    {
     "name": "stdout",
     "output_type": "stream",
     "text": [
      "[youtube] akwvpAiLFk0: Downloading webpage\n",
      "[youtube] akwvpAiLFk0: Downloading MPD manifest\n",
      "[download] Destination: oaudio3.wav\n",
      "[download]   5.5% of 11.23MiB at 81.86KiB/s ETA 02:120"
     ]
    }
   ],
   "source": [
    "audio.m_audio()"
   ]
  },
  {
   "cell_type": "code",
   "execution_count": 4,
   "id": "85b8a83b",
   "metadata": {},
   "outputs": [
    {
     "name": "stdout",
     "output_type": "stream",
     "text": [
      "Requirement already satisfied: utils in /Users/shu/.pyenv/versions/3.8.12/envs/cocktail_effect/lib/python3.8/site-packages (1.0.1)\r\n"
     ]
    }
   ],
   "source": [
    "#build_audio_database\n",
    "!pip install utils"
   ]
  },
  {
   "cell_type": "code",
   "execution_count": 5,
   "id": "3df8db6c",
   "metadata": {},
   "outputs": [],
   "source": []
  },
  {
   "cell_type": "code",
   "execution_count": 6,
   "id": "9e951d3e",
   "metadata": {},
   "outputs": [],
   "source": [
    "import sys\n",
    "sys.path.append(\"../../../models/lib\")\n",
    "import os\n",
    "import librosa\n",
    "import numpy as np\n",
    "import utils\n",
    "import itertools\n",
    "import time\n",
    "import random\n",
    "import math\n",
    "import scipy.io.wavfile as wavfile\n"
   ]
  },
  {
   "cell_type": "code",
   "execution_count": 10,
   "id": "076fb968",
   "metadata": {},
   "outputs": [],
   "source": [
    "import cocktail_effect.data.audio.build_audio_database as build_audio_database"
   ]
  },
  {
   "cell_type": "code",
   "execution_count": 14,
   "id": "c512e63a",
   "metadata": {},
   "outputs": [],
   "source": [
    "build_audio_database.init_dir(\"AV_model_database\")"
   ]
  },
  {
   "cell_type": "code",
   "execution_count": 31,
   "id": "bdc4b98b",
   "metadata": {},
   "outputs": [],
   "source": [
    "#class\n",
    "class AudioDownloader(object):\n",
    "    def __init__(self,youtube_id, loc, name, cat, start_idx, end_idx):\n",
    "        \"This class helps with downloading the audio\"\n",
    "        self.youtube_id = youtube_id\n",
    "        self.loc = loc\n",
    "        self.name = name\n",
    "        self.cat = cat\n",
    "        self.start_idx = start_idx\n",
    "        self.end_idx = end_idx\n",
    "        \n",
    "    def m_link(self):\n",
    "    # return the youtube actual link\n",
    "        link ='https://www.youtube.com/watch?v='+self.youtube_id\n",
    "        \n",
    "        return link\n",
    "\n",
    "    def m_audio(self):\n",
    "        # make concatenated audio following by the catalog from AVSpeech\n",
    "        # loc       | the location for file to store\n",
    "        # name      | name for the wav mix file\n",
    "        # cat       | the catalog with audio link and time\n",
    "        # start_idx | the starting index of the audio to download and concatenate\n",
    "        # end_idx   | the ending index of the audio to download and concatenate\n",
    "    \n",
    "        for i in range(self.start_idx,self.end_idx):\n",
    "            f_name = self.name+str(i)\n",
    "            link = m_link(self.cat.loc[i,'link'])\n",
    "            start_time = self.cat.loc[i,'start_time']\n",
    "            end_time = start_time + 3.0\n",
    "            avh.download(self.loc,f_name,link)\n",
    "            avh.cut(self.loc,f_name,start_time,end_time)\n",
    "            \n",
    "    def collect_audio(self):   \n",
    "        header = [\"link\", \"start_time\", \"end_time\", \"x_coord\", \"y_coord\"]\n",
    "        cat_train = pd.read_csv('./raw_data/avspeech_train.csv', names=header)\n",
    "        #cat_test = pd.read_csv('catalog/avspeech_test.csv', names=header)\n",
    "        \n",
    "        # create 80000-90000 audios data from 290K\n",
    "        avh.mkdir(self.loc)\n",
    "        m_audio(self.loc,self.loc,cat_train,1,3)"
   ]
  },
  {
   "cell_type": "code",
   "execution_count": null,
   "id": "d717b48a",
   "metadata": {},
   "outputs": [],
   "source": []
  }
 ],
 "metadata": {
  "kernelspec": {
   "display_name": "Python 3 (ipykernel)",
   "language": "python",
   "name": "python3"
  },
  "language_info": {
   "codemirror_mode": {
    "name": "ipython",
    "version": 3
   },
   "file_extension": ".py",
   "mimetype": "text/x-python",
   "name": "python",
   "nbconvert_exporter": "python",
   "pygments_lexer": "ipython3",
   "version": "3.8.12"
  },
  "toc": {
   "base_numbering": 1,
   "nav_menu": {},
   "number_sections": true,
   "sideBar": true,
   "skip_h1_title": false,
   "title_cell": "Table of Contents",
   "title_sidebar": "Contents",
   "toc_cell": false,
   "toc_position": {},
   "toc_section_display": true,
   "toc_window_display": false
  }
 },
 "nbformat": 4,
 "nbformat_minor": 5
}
