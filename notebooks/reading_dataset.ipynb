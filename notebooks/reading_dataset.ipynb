{
 "cells": [
  {
   "cell_type": "markdown",
   "id": "20ed3e05",
   "metadata": {
    "toc": true
   },
   "source": [
    "<h1>Table of Contents<span class=\"tocSkip\"></span></h1>\n",
    "<div class=\"toc\"><ul class=\"toc-item\"><li><span><a href=\"#Dataset\" data-toc-modified-id=\"Dataset-1\"><span class=\"toc-item-num\">1&nbsp;&nbsp;</span>Dataset</a></span></li></ul></div>"
   ]
  },
  {
   "cell_type": "markdown",
   "id": "4e6f2067",
   "metadata": {},
   "source": [
    "# Dataset"
   ]
  },
  {
   "cell_type": "code",
   "execution_count": 5,
   "id": "7396e308",
   "metadata": {},
   "outputs": [],
   "source": [
    "import pandas as pd\n",
    "data = pd.read_csv('../raw_data/avspeech_train.csv')\n",
    "cols = ['YouTube ID', 'start segment', 'end segment', 'X coordinate', 'Y coordinate']\n",
    "df = data.copy()\n",
    "df.columns = cols"
   ]
  },
  {
   "cell_type": "markdown",
   "id": "9dc4c5d8",
   "metadata": {},
   "source": [
    "Where the X,Y coordinates mark the center point of the speaker's face in the frame at the beginning of the segment, normalized with respect to frame size, where (0.0, 0.0) corresponds to the top left, and (1.0, 1.0) corresponds to bottom right.\n"
   ]
  },
  {
   "cell_type": "code",
   "execution_count": 6,
   "id": "f352c6a3",
   "metadata": {},
   "outputs": [
    {
     "data": {
      "text/html": [
       "<div>\n",
       "<style scoped>\n",
       "    .dataframe tbody tr th:only-of-type {\n",
       "        vertical-align: middle;\n",
       "    }\n",
       "\n",
       "    .dataframe tbody tr th {\n",
       "        vertical-align: top;\n",
       "    }\n",
       "\n",
       "    .dataframe thead th {\n",
       "        text-align: right;\n",
       "    }\n",
       "</style>\n",
       "<table border=\"1\" class=\"dataframe\">\n",
       "  <thead>\n",
       "    <tr style=\"text-align: right;\">\n",
       "      <th></th>\n",
       "      <th>YouTube ID</th>\n",
       "      <th>start segment</th>\n",
       "      <th>end segment</th>\n",
       "      <th>X coordinate</th>\n",
       "      <th>Y coordinate</th>\n",
       "    </tr>\n",
       "  </thead>\n",
       "  <tbody>\n",
       "    <tr>\n",
       "      <th>0</th>\n",
       "      <td>AvWWVOgaMlk</td>\n",
       "      <td>90.000000</td>\n",
       "      <td>93.566667</td>\n",
       "      <td>0.586719</td>\n",
       "      <td>0.311111</td>\n",
       "    </tr>\n",
       "    <tr>\n",
       "      <th>1</th>\n",
       "      <td>Y8HMIm8mdns</td>\n",
       "      <td>171.607767</td>\n",
       "      <td>174.607767</td>\n",
       "      <td>0.505729</td>\n",
       "      <td>0.240741</td>\n",
       "    </tr>\n",
       "    <tr>\n",
       "      <th>2</th>\n",
       "      <td>akwvpAiLFk0</td>\n",
       "      <td>144.680000</td>\n",
       "      <td>150.000000</td>\n",
       "      <td>0.698438</td>\n",
       "      <td>0.288889</td>\n",
       "    </tr>\n",
       "    <tr>\n",
       "      <th>3</th>\n",
       "      <td>Swss72CHSWg</td>\n",
       "      <td>90.023267</td>\n",
       "      <td>97.297200</td>\n",
       "      <td>0.230729</td>\n",
       "      <td>0.204630</td>\n",
       "    </tr>\n",
       "    <tr>\n",
       "      <th>4</th>\n",
       "      <td>ymD5uLlLc0g</td>\n",
       "      <td>36.033000</td>\n",
       "      <td>40.900000</td>\n",
       "      <td>0.341667</td>\n",
       "      <td>0.475926</td>\n",
       "    </tr>\n",
       "    <tr>\n",
       "      <th>...</th>\n",
       "      <td>...</td>\n",
       "      <td>...</td>\n",
       "      <td>...</td>\n",
       "      <td>...</td>\n",
       "      <td>...</td>\n",
       "    </tr>\n",
       "    <tr>\n",
       "      <th>2621839</th>\n",
       "      <td>Ki8M7q-jjq4</td>\n",
       "      <td>120.055044</td>\n",
       "      <td>124.664600</td>\n",
       "      <td>0.495312</td>\n",
       "      <td>0.456944</td>\n",
       "    </tr>\n",
       "    <tr>\n",
       "      <th>2621840</th>\n",
       "      <td>lI8yey-mlhM</td>\n",
       "      <td>54.654000</td>\n",
       "      <td>58.625000</td>\n",
       "      <td>0.507812</td>\n",
       "      <td>0.283333</td>\n",
       "    </tr>\n",
       "    <tr>\n",
       "      <th>2621841</th>\n",
       "      <td>IcL3dkz0RYc</td>\n",
       "      <td>109.566667</td>\n",
       "      <td>120.000000</td>\n",
       "      <td>0.467187</td>\n",
       "      <td>0.458333</td>\n",
       "    </tr>\n",
       "    <tr>\n",
       "      <th>2621842</th>\n",
       "      <td>xGrSQo3FAiA</td>\n",
       "      <td>137.996167</td>\n",
       "      <td>141.399567</td>\n",
       "      <td>0.746875</td>\n",
       "      <td>0.362500</td>\n",
       "    </tr>\n",
       "    <tr>\n",
       "      <th>2621843</th>\n",
       "      <td>Fia8MSLPoWU</td>\n",
       "      <td>15.115000</td>\n",
       "      <td>29.714000</td>\n",
       "      <td>0.439063</td>\n",
       "      <td>0.434722</td>\n",
       "    </tr>\n",
       "  </tbody>\n",
       "</table>\n",
       "<p>2621844 rows × 5 columns</p>\n",
       "</div>"
      ],
      "text/plain": [
       "          YouTube ID  start segment  end segment  X coordinate  Y coordinate\n",
       "0        AvWWVOgaMlk      90.000000    93.566667      0.586719      0.311111\n",
       "1        Y8HMIm8mdns     171.607767   174.607767      0.505729      0.240741\n",
       "2        akwvpAiLFk0     144.680000   150.000000      0.698438      0.288889\n",
       "3        Swss72CHSWg      90.023267    97.297200      0.230729      0.204630\n",
       "4        ymD5uLlLc0g      36.033000    40.900000      0.341667      0.475926\n",
       "...              ...            ...          ...           ...           ...\n",
       "2621839  Ki8M7q-jjq4     120.055044   124.664600      0.495312      0.456944\n",
       "2621840  lI8yey-mlhM      54.654000    58.625000      0.507812      0.283333\n",
       "2621841  IcL3dkz0RYc     109.566667   120.000000      0.467187      0.458333\n",
       "2621842  xGrSQo3FAiA     137.996167   141.399567      0.746875      0.362500\n",
       "2621843  Fia8MSLPoWU      15.115000    29.714000      0.439063      0.434722\n",
       "\n",
       "[2621844 rows x 5 columns]"
      ]
     },
     "execution_count": 6,
     "metadata": {},
     "output_type": "execute_result"
    }
   ],
   "source": [
    "df"
   ]
  },
  {
   "cell_type": "code",
   "execution_count": null,
   "id": "494b11b1",
   "metadata": {},
   "outputs": [],
   "source": []
  }
 ],
 "metadata": {
  "kernelspec": {
   "display_name": "Python 3 (ipykernel)",
   "language": "python",
   "name": "python3"
  },
  "language_info": {
   "codemirror_mode": {
    "name": "ipython",
    "version": 3
   },
   "file_extension": ".py",
   "mimetype": "text/x-python",
   "name": "python",
   "nbconvert_exporter": "python",
   "pygments_lexer": "ipython3",
   "version": "3.8.12"
  },
  "latex_envs": {
   "LaTeX_envs_menu_present": true,
   "autoclose": false,
   "autocomplete": true,
   "bibliofile": "biblio.bib",
   "cite_by": "apalike",
   "current_citInitial": 1,
   "eqLabelWithNumbers": true,
   "eqNumInitial": 1,
   "hotkeys": {
    "equation": "Ctrl-E",
    "itemize": "Ctrl-I"
   },
   "labels_anchors": false,
   "latex_user_defs": false,
   "report_style_numbering": false,
   "user_envs_cfg": false
  },
  "toc": {
   "base_numbering": 1,
   "nav_menu": {},
   "number_sections": true,
   "sideBar": true,
   "skip_h1_title": false,
   "title_cell": "Table of Contents",
   "title_sidebar": "Contents",
   "toc_cell": true,
   "toc_position": {},
   "toc_section_display": true,
   "toc_window_display": true
  }
 },
 "nbformat": 4,
 "nbformat_minor": 5
}
