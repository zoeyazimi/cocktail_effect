{
 "cells": [
  {
   "cell_type": "code",
   "execution_count": 1,
   "id": "deb963d5",
   "metadata": {},
   "outputs": [],
   "source": [
    "from cocktail_effect.AVHandler import *\n",
    "from cocktail_effect.video_collection import *"
   ]
  },
  {
   "cell_type": "code",
   "execution_count": 3,
   "id": "99f7921c",
   "metadata": {},
   "outputs": [
    {
     "data": {
      "text/html": [
       "<div>\n",
       "<style scoped>\n",
       "    .dataframe tbody tr th:only-of-type {\n",
       "        vertical-align: middle;\n",
       "    }\n",
       "\n",
       "    .dataframe tbody tr th {\n",
       "        vertical-align: top;\n",
       "    }\n",
       "\n",
       "    .dataframe thead th {\n",
       "        text-align: right;\n",
       "    }\n",
       "</style>\n",
       "<table border=\"1\" class=\"dataframe\">\n",
       "  <thead>\n",
       "    <tr style=\"text-align: right;\">\n",
       "      <th></th>\n",
       "      <th>link</th>\n",
       "      <th>start_time</th>\n",
       "      <th>end_time</th>\n",
       "      <th>x_coord</th>\n",
       "      <th>y_coord</th>\n",
       "    </tr>\n",
       "  </thead>\n",
       "  <tbody>\n",
       "    <tr>\n",
       "      <th>0</th>\n",
       "      <td>CJoOwXcjhds</td>\n",
       "      <td>233.266000</td>\n",
       "      <td>239.367000</td>\n",
       "      <td>0.780469</td>\n",
       "      <td>0.670833</td>\n",
       "    </tr>\n",
       "    <tr>\n",
       "      <th>1</th>\n",
       "      <td>AvWWVOgaMlk</td>\n",
       "      <td>90.000000</td>\n",
       "      <td>93.566667</td>\n",
       "      <td>0.586719</td>\n",
       "      <td>0.311111</td>\n",
       "    </tr>\n",
       "    <tr>\n",
       "      <th>2</th>\n",
       "      <td>Y8HMIm8mdns</td>\n",
       "      <td>171.607767</td>\n",
       "      <td>174.607767</td>\n",
       "      <td>0.505729</td>\n",
       "      <td>0.240741</td>\n",
       "    </tr>\n",
       "    <tr>\n",
       "      <th>3</th>\n",
       "      <td>akwvpAiLFk0</td>\n",
       "      <td>144.680000</td>\n",
       "      <td>150.000000</td>\n",
       "      <td>0.698438</td>\n",
       "      <td>0.288889</td>\n",
       "    </tr>\n",
       "    <tr>\n",
       "      <th>4</th>\n",
       "      <td>Swss72CHSWg</td>\n",
       "      <td>90.023267</td>\n",
       "      <td>97.297200</td>\n",
       "      <td>0.230729</td>\n",
       "      <td>0.204630</td>\n",
       "    </tr>\n",
       "  </tbody>\n",
       "</table>\n",
       "</div>"
      ],
      "text/plain": [
       "          link  start_time    end_time   x_coord   y_coord\n",
       "0  CJoOwXcjhds  233.266000  239.367000  0.780469  0.670833\n",
       "1  AvWWVOgaMlk   90.000000   93.566667  0.586719  0.311111\n",
       "2  Y8HMIm8mdns  171.607767  174.607767  0.505729  0.240741\n",
       "3  akwvpAiLFk0  144.680000  150.000000  0.698438  0.288889\n",
       "4  Swss72CHSWg   90.023267   97.297200  0.230729  0.204630"
      ]
     },
     "execution_count": 3,
     "metadata": {},
     "output_type": "execute_result"
    }
   ],
   "source": [
    "import pandas as pd\n",
    "\n",
    "header = [\"link\", \"start_time\", \"end_time\", \"x_coord\", \"y_coord\"]\n",
    "cat = pd.read_csv('../raw_data/avspeech_train.csv', names=header)\n",
    "cat.head()"
   ]
  },
  {
   "cell_type": "code",
   "execution_count": 4,
   "id": "2d5b131a",
   "metadata": {},
   "outputs": [
    {
     "name": "stderr",
     "output_type": "stream",
     "text": [
      "mkdir: ../cocktail_effect/data/video_train: File exists\n"
     ]
    }
   ],
   "source": [
    "mkdir('../cocktail_effect/data/video_train')\n",
    "loc = '../cocktail_effect/data/video_train'\n",
    "start_idx = 1\n",
    "end_idx = 2"
   ]
  },
  {
   "cell_type": "code",
   "execution_count": 5,
   "id": "8abd856b",
   "metadata": {},
   "outputs": [],
   "source": [
    "test = VideoCollect(loc, cat, start_idx, end_idx)"
   ]
  },
  {
   "cell_type": "code",
   "execution_count": 6,
   "id": "9e42d401",
   "metadata": {},
   "outputs": [
    {
     "name": "stderr",
     "output_type": "stream",
     "text": [
      "ffmpeg version 5.0 Copyright (c) 2000-2022 the FFmpeg developers\n",
      "  built with Apple clang version 13.0.0 (clang-1300.0.29.30)\n",
      "  configuration: --prefix=/usr/local/Cellar/ffmpeg/5.0 --enable-shared --enable-pthreads --enable-version3 --cc=clang --host-cflags= --host-ldflags= --enable-ffplay --enable-gnutls --enable-gpl --enable-libaom --enable-libbluray --enable-libdav1d --enable-libmp3lame --enable-libopus --enable-librav1e --enable-librist --enable-librubberband --enable-libsnappy --enable-libsrt --enable-libtesseract --enable-libtheora --enable-libvidstab --enable-libvmaf --enable-libvorbis --enable-libvpx --enable-libwebp --enable-libx264 --enable-libx265 --enable-libxml2 --enable-libxvid --enable-lzma --enable-libfontconfig --enable-libfreetype --enable-frei0r --enable-libass --enable-libopencore-amrnb --enable-libopencore-amrwb --enable-libopenjpeg --enable-libspeex --enable-libsoxr --enable-libzmq --enable-libzimg --disable-libjack --disable-indev=jack --enable-videotoolbox\n",
      "  libavutil      57. 17.100 / 57. 17.100\n",
      "  libavcodec     59. 18.100 / 59. 18.100\n",
      "  libavformat    59. 16.100 / 59. 16.100\n",
      "  libavdevice    59.  4.100 / 59.  4.100\n",
      "  libavfilter     8. 24.100 /  8. 24.100\n",
      "  libswscale      6.  4.100 /  6.  4.100\n",
      "  libswresample   4.  3.100 /  4.  3.100\n",
      "  libpostproc    56.  3.100 / 56.  3.100\n",
      "Input #0, mov,mp4,m4a,3gp,3g2,mj2, from 'https://rr4---sn-8pgbpohxqp5-ac56.googlevideo.com/videoplayback?expire=1645310920&ei=aB8RYv2cNZWlxN8P4tSywA8&ip=94.174.169.70&id=o-ANH59h8uirqdbLT12idhGIe8EdyJJM6xF69NdVZA4qPD&itag=22&source=youtube&requiressl=yes&mh=4L&mm=31%2C29&mn=sn-8pgbpohxqp5-ac56%2Csn-aigzrn7k&ms=au%2Crdu&mv=m&mvi=4&pl=21&initcwndbps=1926250&vprv=1&mime=video%2Fmp4&ns=3L5wydt8G1b50bjutVn77ukG&cnr=14&ratebypass=yes&dur=1273.544&lmt=1472243226665979&mt=1645288858&fvip=5&fexp=24001373%2C24007246&c=WEB&n=XzZDJg-zQP8Wkuykd&sparams=expire%2Cei%2Cip%2Cid%2Citag%2Csource%2Crequiressl%2Cvprv%2Cmime%2Cns%2Ccnr%2Cratebypass%2Cdur%2Clmt&sig=AOq0QJ8wRAIgSchWw0ngTSW4JpYKu2Qihn7ylk-BW-I_vJk5u0y3nLkCIFN_RLNSvhBJ0njvkezc-R4ym5eo1PkEPFeiVjZD4YMZ&lsparams=mh%2Cmm%2Cmn%2Cms%2Cmv%2Cmvi%2Cpl%2Cinitcwndbps&lsig=AG3C_xAwRQIhAMFfCykHfsnVqPgjXF9TNPufLLD4e_xPZXSeQivR8IP3AiBSoA3IxIAuTpi7gDEgcYVCc7MKIAZ8lwi_6vfQdZORfw%3D%3D':\n",
      "  Metadata:\n",
      "    major_brand     : mp42\n",
      "    minor_version   : 0\n",
      "    compatible_brands: isommp42\n",
      "    creation_time   : 2016-08-26T20:25:02.000000Z\n",
      "  Duration: 00:21:13.48, start: 0.000000, bitrate: 1784 kb/s\n",
      "  Stream #0:0[0x1](und): Video: h264 (Main) (avc1 / 0x31637661), yuv420p(progressive), 1280x720 [SAR 1:1 DAR 16:9], 1654 kb/s, 30 fps, 30 tbr, 90k tbn (default)\n",
      "    Metadata:\n",
      "      creation_time   : 2016-08-26T20:25:02.000000Z\n",
      "      handler_name    : ISO Media file produced by Google Inc.\n",
      "      vendor_id       : [0][0][0][0]\n",
      "  Stream #0:1[0x2](und): Audio: aac (LC) (mp4a / 0x6134706D), 44100 Hz, stereo, fltp, 125 kb/s (default)\n",
      "    Metadata:\n",
      "      creation_time   : 2016-08-26T20:25:02.000000Z\n",
      "      handler_name    : ISO Media file produced by Google Inc.\n",
      "      vendor_id       : [0][0][0][0]\n",
      "File '1.mp4' already exists. Overwrite? [y/N] "
     ]
    }
   ],
   "source": [
    "test.video_download()"
   ]
  },
  {
   "cell_type": "code",
   "execution_count": null,
   "id": "5928cd5d",
   "metadata": {},
   "outputs": [],
   "source": []
  }
 ],
 "metadata": {
  "kernelspec": {
   "display_name": "Python 3 (ipykernel)",
   "language": "python",
   "name": "python3"
  },
  "language_info": {
   "codemirror_mode": {
    "name": "ipython",
    "version": 3
   },
   "file_extension": ".py",
   "mimetype": "text/x-python",
   "name": "python",
   "nbconvert_exporter": "python",
   "pygments_lexer": "ipython3",
   "version": "3.8.12"
  },
  "toc": {
   "base_numbering": 1,
   "nav_menu": {},
   "number_sections": true,
   "sideBar": true,
   "skip_h1_title": false,
   "title_cell": "Table of Contents",
   "title_sidebar": "Contents",
   "toc_cell": false,
   "toc_position": {},
   "toc_section_display": true,
   "toc_window_display": false
  }
 },
 "nbformat": 4,
 "nbformat_minor": 5
}
