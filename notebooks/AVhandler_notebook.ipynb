{
 "cells": [
  {
   "cell_type": "code",
   "execution_count": 1,
   "id": "7888cb06",
   "metadata": {},
   "outputs": [],
   "source": [
    "#instruction https://github.com/bill9800/speech_separation/blob/master/data/README.md \n",
    "#Get into data/audio/catalog and download train.csv and test.csv from AVspeech\n",
    "import pandas as pd\n",
    "#local folder\n",
    "data=pd.read_csv(\"./raw_data/avspeech_test.csv\")\n",
    "\n",
    "\n",
    "#google colab\n",
    "\n"
   ]
  },
  {
   "cell_type": "code",
   "execution_count": 2,
   "id": "79001435",
   "metadata": {},
   "outputs": [
    {
     "data": {
      "text/html": [
       "<div>\n",
       "<style scoped>\n",
       "    .dataframe tbody tr th:only-of-type {\n",
       "        vertical-align: middle;\n",
       "    }\n",
       "\n",
       "    .dataframe tbody tr th {\n",
       "        vertical-align: top;\n",
       "    }\n",
       "\n",
       "    .dataframe thead th {\n",
       "        text-align: right;\n",
       "    }\n",
       "</style>\n",
       "<table border=\"1\" class=\"dataframe\">\n",
       "  <thead>\n",
       "    <tr style=\"text-align: right;\">\n",
       "      <th></th>\n",
       "      <th>u5MPyrRJPmc</th>\n",
       "      <th>108.240000</th>\n",
       "      <th>111.240000</th>\n",
       "      <th>0.849219</th>\n",
       "      <th>0.305556</th>\n",
       "    </tr>\n",
       "  </thead>\n",
       "  <tbody>\n",
       "    <tr>\n",
       "      <th>0</th>\n",
       "      <td>H1ulMfj5wRY</td>\n",
       "      <td>112.320000</td>\n",
       "      <td>116.940000</td>\n",
       "      <td>0.112500</td>\n",
       "      <td>0.345833</td>\n",
       "    </tr>\n",
       "    <tr>\n",
       "      <th>1</th>\n",
       "      <td>-wuxbgMRIWs</td>\n",
       "      <td>30.030000</td>\n",
       "      <td>36.745044</td>\n",
       "      <td>0.744531</td>\n",
       "      <td>0.211111</td>\n",
       "    </tr>\n",
       "    <tr>\n",
       "      <th>2</th>\n",
       "      <td>GNRPRH-E-sI</td>\n",
       "      <td>30.230200</td>\n",
       "      <td>38.171467</td>\n",
       "      <td>0.333594</td>\n",
       "      <td>0.494444</td>\n",
       "    </tr>\n",
       "    <tr>\n",
       "      <th>3</th>\n",
       "      <td>VvcwAGkSy2o</td>\n",
       "      <td>240.200000</td>\n",
       "      <td>253.366667</td>\n",
       "      <td>0.491667</td>\n",
       "      <td>0.372222</td>\n",
       "    </tr>\n",
       "    <tr>\n",
       "      <th>4</th>\n",
       "      <td>XoboRQKD-KY</td>\n",
       "      <td>219.088533</td>\n",
       "      <td>222.088533</td>\n",
       "      <td>0.239844</td>\n",
       "      <td>0.248611</td>\n",
       "    </tr>\n",
       "    <tr>\n",
       "      <th>...</th>\n",
       "      <td>...</td>\n",
       "      <td>...</td>\n",
       "      <td>...</td>\n",
       "      <td>...</td>\n",
       "      <td>...</td>\n",
       "    </tr>\n",
       "    <tr>\n",
       "      <th>183267</th>\n",
       "      <td>80pU4f5HFmg</td>\n",
       "      <td>211.000000</td>\n",
       "      <td>219.280000</td>\n",
       "      <td>0.488542</td>\n",
       "      <td>0.296296</td>\n",
       "    </tr>\n",
       "    <tr>\n",
       "      <th>183268</th>\n",
       "      <td>FJ3gPk5Cv-g</td>\n",
       "      <td>294.330367</td>\n",
       "      <td>297.330367</td>\n",
       "      <td>0.598958</td>\n",
       "      <td>0.361111</td>\n",
       "    </tr>\n",
       "    <tr>\n",
       "      <th>183269</th>\n",
       "      <td>LX6_rQjQDZA</td>\n",
       "      <td>234.200633</td>\n",
       "      <td>239.973067</td>\n",
       "      <td>0.110156</td>\n",
       "      <td>0.136111</td>\n",
       "    </tr>\n",
       "    <tr>\n",
       "      <th>183270</th>\n",
       "      <td>79RVP6WqHR4</td>\n",
       "      <td>240.006433</td>\n",
       "      <td>243.042800</td>\n",
       "      <td>0.283854</td>\n",
       "      <td>0.230556</td>\n",
       "    </tr>\n",
       "    <tr>\n",
       "      <th>183271</th>\n",
       "      <td>LsmFkm22UT0</td>\n",
       "      <td>135.880000</td>\n",
       "      <td>145.000000</td>\n",
       "      <td>0.214062</td>\n",
       "      <td>0.273148</td>\n",
       "    </tr>\n",
       "  </tbody>\n",
       "</table>\n",
       "<p>183272 rows × 5 columns</p>\n",
       "</div>"
      ],
      "text/plain": [
       "        u5MPyrRJPmc  108.240000  111.240000  0.849219  0.305556\n",
       "0       H1ulMfj5wRY  112.320000  116.940000  0.112500  0.345833\n",
       "1       -wuxbgMRIWs   30.030000   36.745044  0.744531  0.211111\n",
       "2       GNRPRH-E-sI   30.230200   38.171467  0.333594  0.494444\n",
       "3       VvcwAGkSy2o  240.200000  253.366667  0.491667  0.372222\n",
       "4       XoboRQKD-KY  219.088533  222.088533  0.239844  0.248611\n",
       "...             ...         ...         ...       ...       ...\n",
       "183267  80pU4f5HFmg  211.000000  219.280000  0.488542  0.296296\n",
       "183268  FJ3gPk5Cv-g  294.330367  297.330367  0.598958  0.361111\n",
       "183269  LX6_rQjQDZA  234.200633  239.973067  0.110156  0.136111\n",
       "183270  79RVP6WqHR4  240.006433  243.042800  0.283854  0.230556\n",
       "183271  LsmFkm22UT0  135.880000  145.000000  0.214062  0.273148\n",
       "\n",
       "[183272 rows x 5 columns]"
      ]
     },
     "execution_count": 2,
     "metadata": {},
     "output_type": "execute_result"
    }
   ],
   "source": [
    "data"
   ]
  },
  {
   "cell_type": "code",
   "execution_count": 3,
   "id": "23360014",
   "metadata": {},
   "outputs": [],
   "source": [
    "#Add link,start_time,end_time,pos_x,pos_y to the head of the csv files. (for pandas)\n",
    "col_lis=[\"link\",\"start_time\",\"end_time\",\"pos_x\",\"pos_y\" ]"
   ]
  },
  {
   "cell_type": "code",
   "execution_count": 4,
   "id": "a8e23ef2",
   "metadata": {},
   "outputs": [],
   "source": [
    "data.columns=col_lis"
   ]
  },
  {
   "cell_type": "code",
   "execution_count": 5,
   "id": "e07d48f4",
   "metadata": {},
   "outputs": [
    {
     "data": {
      "text/html": [
       "<div>\n",
       "<style scoped>\n",
       "    .dataframe tbody tr th:only-of-type {\n",
       "        vertical-align: middle;\n",
       "    }\n",
       "\n",
       "    .dataframe tbody tr th {\n",
       "        vertical-align: top;\n",
       "    }\n",
       "\n",
       "    .dataframe thead th {\n",
       "        text-align: right;\n",
       "    }\n",
       "</style>\n",
       "<table border=\"1\" class=\"dataframe\">\n",
       "  <thead>\n",
       "    <tr style=\"text-align: right;\">\n",
       "      <th></th>\n",
       "      <th>link</th>\n",
       "      <th>start_time</th>\n",
       "      <th>end_time</th>\n",
       "      <th>pos_x</th>\n",
       "      <th>pos_y</th>\n",
       "    </tr>\n",
       "  </thead>\n",
       "  <tbody>\n",
       "    <tr>\n",
       "      <th>0</th>\n",
       "      <td>H1ulMfj5wRY</td>\n",
       "      <td>112.320000</td>\n",
       "      <td>116.940000</td>\n",
       "      <td>0.112500</td>\n",
       "      <td>0.345833</td>\n",
       "    </tr>\n",
       "    <tr>\n",
       "      <th>1</th>\n",
       "      <td>-wuxbgMRIWs</td>\n",
       "      <td>30.030000</td>\n",
       "      <td>36.745044</td>\n",
       "      <td>0.744531</td>\n",
       "      <td>0.211111</td>\n",
       "    </tr>\n",
       "    <tr>\n",
       "      <th>2</th>\n",
       "      <td>GNRPRH-E-sI</td>\n",
       "      <td>30.230200</td>\n",
       "      <td>38.171467</td>\n",
       "      <td>0.333594</td>\n",
       "      <td>0.494444</td>\n",
       "    </tr>\n",
       "    <tr>\n",
       "      <th>3</th>\n",
       "      <td>VvcwAGkSy2o</td>\n",
       "      <td>240.200000</td>\n",
       "      <td>253.366667</td>\n",
       "      <td>0.491667</td>\n",
       "      <td>0.372222</td>\n",
       "    </tr>\n",
       "    <tr>\n",
       "      <th>4</th>\n",
       "      <td>XoboRQKD-KY</td>\n",
       "      <td>219.088533</td>\n",
       "      <td>222.088533</td>\n",
       "      <td>0.239844</td>\n",
       "      <td>0.248611</td>\n",
       "    </tr>\n",
       "    <tr>\n",
       "      <th>...</th>\n",
       "      <td>...</td>\n",
       "      <td>...</td>\n",
       "      <td>...</td>\n",
       "      <td>...</td>\n",
       "      <td>...</td>\n",
       "    </tr>\n",
       "    <tr>\n",
       "      <th>183267</th>\n",
       "      <td>80pU4f5HFmg</td>\n",
       "      <td>211.000000</td>\n",
       "      <td>219.280000</td>\n",
       "      <td>0.488542</td>\n",
       "      <td>0.296296</td>\n",
       "    </tr>\n",
       "    <tr>\n",
       "      <th>183268</th>\n",
       "      <td>FJ3gPk5Cv-g</td>\n",
       "      <td>294.330367</td>\n",
       "      <td>297.330367</td>\n",
       "      <td>0.598958</td>\n",
       "      <td>0.361111</td>\n",
       "    </tr>\n",
       "    <tr>\n",
       "      <th>183269</th>\n",
       "      <td>LX6_rQjQDZA</td>\n",
       "      <td>234.200633</td>\n",
       "      <td>239.973067</td>\n",
       "      <td>0.110156</td>\n",
       "      <td>0.136111</td>\n",
       "    </tr>\n",
       "    <tr>\n",
       "      <th>183270</th>\n",
       "      <td>79RVP6WqHR4</td>\n",
       "      <td>240.006433</td>\n",
       "      <td>243.042800</td>\n",
       "      <td>0.283854</td>\n",
       "      <td>0.230556</td>\n",
       "    </tr>\n",
       "    <tr>\n",
       "      <th>183271</th>\n",
       "      <td>LsmFkm22UT0</td>\n",
       "      <td>135.880000</td>\n",
       "      <td>145.000000</td>\n",
       "      <td>0.214062</td>\n",
       "      <td>0.273148</td>\n",
       "    </tr>\n",
       "  </tbody>\n",
       "</table>\n",
       "<p>183272 rows × 5 columns</p>\n",
       "</div>"
      ],
      "text/plain": [
       "               link  start_time    end_time     pos_x     pos_y\n",
       "0       H1ulMfj5wRY  112.320000  116.940000  0.112500  0.345833\n",
       "1       -wuxbgMRIWs   30.030000   36.745044  0.744531  0.211111\n",
       "2       GNRPRH-E-sI   30.230200   38.171467  0.333594  0.494444\n",
       "3       VvcwAGkSy2o  240.200000  253.366667  0.491667  0.372222\n",
       "4       XoboRQKD-KY  219.088533  222.088533  0.239844  0.248611\n",
       "...             ...         ...         ...       ...       ...\n",
       "183267  80pU4f5HFmg  211.000000  219.280000  0.488542  0.296296\n",
       "183268  FJ3gPk5Cv-g  294.330367  297.330367  0.598958  0.361111\n",
       "183269  LX6_rQjQDZA  234.200633  239.973067  0.110156  0.136111\n",
       "183270  79RVP6WqHR4  240.006433  243.042800  0.283854  0.230556\n",
       "183271  LsmFkm22UT0  135.880000  145.000000  0.214062  0.273148\n",
       "\n",
       "[183272 rows x 5 columns]"
      ]
     },
     "execution_count": 5,
     "metadata": {},
     "output_type": "execute_result"
    }
   ],
   "source": [
    "data"
   ]
  },
  {
   "cell_type": "code",
   "execution_count": 6,
   "id": "df2bf8e2",
   "metadata": {},
   "outputs": [],
   "source": [
    "import os\n",
    "import librosa\n",
    "import scipy.io.wavfile as wavfile\n",
    "import numpy as np"
   ]
  },
  {
   "cell_type": "code",
   "execution_count": 27,
   "id": "9a35efbe",
   "metadata": {},
   "outputs": [],
   "source": [
    "def mkdir(dir_name,loc=''):\n",
    "    # make directory use command line\n",
    "    # dir_name  | name of the directory\n",
    "    # loc       | the location for the directory to be created\n",
    "    command = \"\"\n",
    "    if loc != '':\n",
    "        command += \"cd %s\" % loc\n",
    "    command += 'mkdir ' + dir_name\n",
    "    os.system(command)"
   ]
  },
  {
   "cell_type": "code",
   "execution_count": null,
   "id": "ae7d316a",
   "metadata": {},
   "outputs": [],
   "source": []
  },
  {
   "cell_type": "code",
   "execution_count": 28,
   "id": "4a4f4d57",
   "metadata": {},
   "outputs": [
    {
     "name": "stderr",
     "output_type": "stream",
     "text": [
      "mkdir: download: File exists\n"
     ]
    }
   ],
   "source": [
    "mkdir(\"download\")"
   ]
  },
  {
   "cell_type": "code",
   "execution_count": 19,
   "id": "0985d9a5",
   "metadata": {},
   "outputs": [
    {
     "name": "stdout",
     "output_type": "stream",
     "text": [
      "\u001b[01;34m.\u001b[00m\r\n",
      "├── MANIFEST.in\r\n",
      "├── Makefile\r\n",
      "├── README.md\r\n",
      "├── \u001b[01;34maudio\u001b[00m\r\n",
      "│   ├── audio_downloader.py\r\n",
      "│   └── cocktail_effect-run\r\n",
      "├── \u001b[01;34mcocktail_effect\u001b[00m\r\n",
      "│   ├── __init__.py\r\n",
      "│   └── \u001b[01;34mdata\u001b[00m\r\n",
      "├── collect\\ data.ipynb\r\n",
      "├── \u001b[01;34mdownload\u001b[00m\r\n",
      "├── \u001b[01;34mlib\u001b[00m\r\n",
      "│   └── AVHandler.py\r\n",
      "├── \u001b[01;34mnotebooks\u001b[00m\r\n",
      "├── \u001b[01;34mraw_data\u001b[00m\r\n",
      "│   ├── avspeech_test.csv\r\n",
      "│   └── avspeech_train.csv\r\n",
      "├── requirements.txt\r\n",
      "├── setup.py\r\n",
      "└── \u001b[01;34mtests\u001b[00m\r\n",
      "    └── __init__.py\r\n",
      "\r\n",
      "8 directories, 13 files\r\n"
     ]
    }
   ],
   "source": [
    "!tree"
   ]
  },
  {
   "cell_type": "code",
   "execution_count": 7,
   "id": "f26a3947",
   "metadata": {},
   "outputs": [],
   "source": [
    "#please add module librosa youtube-dl ffmpeg\n",
    "\n",
    "\n",
    "def m_link(youtube_id):\n",
    "    # return the youtube actual link\n",
    "    link = 'https://www.youtube.com/watch?v='+youtube_id\n",
    "    return link\n",
    "\n",
    "def download(loc,name,link,sr=16000,type='audio'):\n",
    "    # download audio from the link\n",
    "    # loc   | the location for downloaded file\n",
    "    # name  | the name for the audio file\n",
    "    # link  | the link to downloaded by youtube-dl\n",
    "    # type  | the type of downloaded file\n",
    "\n",
    "\n",
    "    if type == 'audio':\n",
    "        # download wav file from the youtube link\n",
    "        command = 'cd %s;' % loc\n",
    "        command += 'youtube-dl -x --audio-format wav -o o' + name + '.wav ' + link + ';'\n",
    "        command += 'ffmpeg -i o%s.wav -ar %d -ac 1 %s.wav;' % (name,sr,name)\n",
    "        command += 'rm o%s.wav' % name\n",
    "        os.system(command)\n"
   ]
  },
  {
   "cell_type": "code",
   "execution_count": 9,
   "id": "8d3e9607",
   "metadata": {},
   "outputs": [
    {
     "data": {
      "text/plain": [
       "'https://www.youtube.com/watch?v=H1ulMfj5wRY'"
      ]
     },
     "execution_count": 9,
     "metadata": {},
     "output_type": "execute_result"
    }
   ],
   "source": [
    "m_link(\"H1ulMfj5wRY\")"
   ]
  },
  {
   "cell_type": "code",
   "execution_count": 31,
   "id": "05045c3c",
   "metadata": {},
   "outputs": [],
   "source": [
    "loc=\"./download/\""
   ]
  },
  {
   "cell_type": "code",
   "execution_count": 32,
   "id": "022cfc51",
   "metadata": {},
   "outputs": [
    {
     "name": "stdout",
     "output_type": "stream",
     "text": [
      "[youtube] H1ulMfj5wRY: Downloading webpage\n",
      "[download] Destination: otest_AV_filen_ame.wav\n",
      "[download] 100% of 37.35MiB in 07:5559KiB/s ETA 00:00102\n"
     ]
    },
    {
     "name": "stderr",
     "output_type": "stream",
     "text": [
      "ERROR: ffprobe/avprobe and ffmpeg/avconv not found. Please install one.\n",
      "sh: ffmpeg: command not found\n"
     ]
    }
   ],
   "source": [
    "download(loc,\"test_AV_filen_ame\",m_link(\"H1ulMfj5wRY\"))"
   ]
  },
  {
   "cell_type": "code",
   "execution_count": null,
   "id": "d975cb05",
   "metadata": {},
   "outputs": [],
   "source": []
  },
  {
   "cell_type": "code",
   "execution_count": null,
   "id": "1ef22f9c",
   "metadata": {},
   "outputs": [],
   "source": []
  },
  {
   "cell_type": "code",
   "execution_count": null,
   "id": "df880141",
   "metadata": {},
   "outputs": [],
   "source": []
  },
  {
   "cell_type": "code",
   "execution_count": null,
   "id": "425f33ab",
   "metadata": {},
   "outputs": [],
   "source": []
  },
  {
   "cell_type": "code",
   "execution_count": null,
   "id": "dd3c31a6",
   "metadata": {},
   "outputs": [],
   "source": []
  },
  {
   "cell_type": "code",
   "execution_count": null,
   "id": "e5633e4d",
   "metadata": {},
   "outputs": [],
   "source": []
  }
 ],
 "metadata": {
  "kernelspec": {
   "display_name": "Python 3 (ipykernel)",
   "language": "python",
   "name": "python3"
  },
  "language_info": {
   "codemirror_mode": {
    "name": "ipython",
    "version": 3
   },
   "file_extension": ".py",
   "mimetype": "text/x-python",
   "name": "python",
   "nbconvert_exporter": "python",
   "pygments_lexer": "ipython3",
   "version": "3.8.12"
  },
  "toc": {
   "base_numbering": 1,
   "nav_menu": {},
   "number_sections": true,
   "sideBar": true,
   "skip_h1_title": false,
   "title_cell": "Table of Contents",
   "title_sidebar": "Contents",
   "toc_cell": false,
   "toc_position": {},
   "toc_section_display": true,
   "toc_window_display": false
  }
 },
 "nbformat": 4,
 "nbformat_minor": 5
}
