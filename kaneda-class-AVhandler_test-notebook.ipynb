{
 "cells": [
  {
   "cell_type": "code",
   "execution_count": null,
   "id": "6dfd58de",
   "metadata": {},
   "outputs": [],
   "source": [
    "!pip install autopep8"
   ]
  },
  {
   "cell_type": "code",
   "execution_count": 4,
   "id": "7888cb06",
   "metadata": {},
   "outputs": [],
   "source": [
    "#instruction https://github.com/bill9800/speech_separation/blob/master/data/README.md \n",
    "#Get into data/audio/catalog and download train.csv and test.csv from AVspeech\n",
    "import pandas as pd\n",
    "#local folder\n",
    "data=pd.read_csv(\"./raw_data/avspeech_test.csv\")\n",
    "\n",
    "\n",
    "#google colab\n",
    "\n"
   ]
  },
  {
   "cell_type": "code",
   "execution_count": 5,
   "id": "79001435",
   "metadata": {},
   "outputs": [
    {
     "data": {
      "text/html": [
       "<div>\n",
       "<style scoped>\n",
       "    .dataframe tbody tr th:only-of-type {\n",
       "        vertical-align: middle;\n",
       "    }\n",
       "\n",
       "    .dataframe tbody tr th {\n",
       "        vertical-align: top;\n",
       "    }\n",
       "\n",
       "    .dataframe thead th {\n",
       "        text-align: right;\n",
       "    }\n",
       "</style>\n",
       "<table border=\"1\" class=\"dataframe\">\n",
       "  <thead>\n",
       "    <tr style=\"text-align: right;\">\n",
       "      <th></th>\n",
       "      <th>u5MPyrRJPmc</th>\n",
       "      <th>108.240000</th>\n",
       "      <th>111.240000</th>\n",
       "      <th>0.849219</th>\n",
       "      <th>0.305556</th>\n",
       "    </tr>\n",
       "  </thead>\n",
       "  <tbody>\n",
       "    <tr>\n",
       "      <th>0</th>\n",
       "      <td>H1ulMfj5wRY</td>\n",
       "      <td>112.320000</td>\n",
       "      <td>116.940000</td>\n",
       "      <td>0.112500</td>\n",
       "      <td>0.345833</td>\n",
       "    </tr>\n",
       "    <tr>\n",
       "      <th>1</th>\n",
       "      <td>-wuxbgMRIWs</td>\n",
       "      <td>30.030000</td>\n",
       "      <td>36.745044</td>\n",
       "      <td>0.744531</td>\n",
       "      <td>0.211111</td>\n",
       "    </tr>\n",
       "    <tr>\n",
       "      <th>2</th>\n",
       "      <td>GNRPRH-E-sI</td>\n",
       "      <td>30.230200</td>\n",
       "      <td>38.171467</td>\n",
       "      <td>0.333594</td>\n",
       "      <td>0.494444</td>\n",
       "    </tr>\n",
       "    <tr>\n",
       "      <th>3</th>\n",
       "      <td>VvcwAGkSy2o</td>\n",
       "      <td>240.200000</td>\n",
       "      <td>253.366667</td>\n",
       "      <td>0.491667</td>\n",
       "      <td>0.372222</td>\n",
       "    </tr>\n",
       "    <tr>\n",
       "      <th>4</th>\n",
       "      <td>XoboRQKD-KY</td>\n",
       "      <td>219.088533</td>\n",
       "      <td>222.088533</td>\n",
       "      <td>0.239844</td>\n",
       "      <td>0.248611</td>\n",
       "    </tr>\n",
       "    <tr>\n",
       "      <th>...</th>\n",
       "      <td>...</td>\n",
       "      <td>...</td>\n",
       "      <td>...</td>\n",
       "      <td>...</td>\n",
       "      <td>...</td>\n",
       "    </tr>\n",
       "    <tr>\n",
       "      <th>183267</th>\n",
       "      <td>80pU4f5HFmg</td>\n",
       "      <td>211.000000</td>\n",
       "      <td>219.280000</td>\n",
       "      <td>0.488542</td>\n",
       "      <td>0.296296</td>\n",
       "    </tr>\n",
       "    <tr>\n",
       "      <th>183268</th>\n",
       "      <td>FJ3gPk5Cv-g</td>\n",
       "      <td>294.330367</td>\n",
       "      <td>297.330367</td>\n",
       "      <td>0.598958</td>\n",
       "      <td>0.361111</td>\n",
       "    </tr>\n",
       "    <tr>\n",
       "      <th>183269</th>\n",
       "      <td>LX6_rQjQDZA</td>\n",
       "      <td>234.200633</td>\n",
       "      <td>239.973067</td>\n",
       "      <td>0.110156</td>\n",
       "      <td>0.136111</td>\n",
       "    </tr>\n",
       "    <tr>\n",
       "      <th>183270</th>\n",
       "      <td>79RVP6WqHR4</td>\n",
       "      <td>240.006433</td>\n",
       "      <td>243.042800</td>\n",
       "      <td>0.283854</td>\n",
       "      <td>0.230556</td>\n",
       "    </tr>\n",
       "    <tr>\n",
       "      <th>183271</th>\n",
       "      <td>LsmFkm22UT0</td>\n",
       "      <td>135.880000</td>\n",
       "      <td>145.000000</td>\n",
       "      <td>0.214062</td>\n",
       "      <td>0.273148</td>\n",
       "    </tr>\n",
       "  </tbody>\n",
       "</table>\n",
       "<p>183272 rows × 5 columns</p>\n",
       "</div>"
      ],
      "text/plain": [
       "        u5MPyrRJPmc  108.240000  111.240000  0.849219  0.305556\n",
       "0       H1ulMfj5wRY  112.320000  116.940000  0.112500  0.345833\n",
       "1       -wuxbgMRIWs   30.030000   36.745044  0.744531  0.211111\n",
       "2       GNRPRH-E-sI   30.230200   38.171467  0.333594  0.494444\n",
       "3       VvcwAGkSy2o  240.200000  253.366667  0.491667  0.372222\n",
       "4       XoboRQKD-KY  219.088533  222.088533  0.239844  0.248611\n",
       "...             ...         ...         ...       ...       ...\n",
       "183267  80pU4f5HFmg  211.000000  219.280000  0.488542  0.296296\n",
       "183268  FJ3gPk5Cv-g  294.330367  297.330367  0.598958  0.361111\n",
       "183269  LX6_rQjQDZA  234.200633  239.973067  0.110156  0.136111\n",
       "183270  79RVP6WqHR4  240.006433  243.042800  0.283854  0.230556\n",
       "183271  LsmFkm22UT0  135.880000  145.000000  0.214062  0.273148\n",
       "\n",
       "[183272 rows x 5 columns]"
      ]
     },
     "execution_count": 5,
     "metadata": {},
     "output_type": "execute_result"
    }
   ],
   "source": [
    "data"
   ]
  },
  {
   "cell_type": "code",
   "execution_count": 6,
   "id": "23360014",
   "metadata": {},
   "outputs": [],
   "source": [
    "#Add link,start_time,end_time,pos_x,pos_y to the head of the csv files. (for pandas)\n",
    "col_lis=[\"link\",\"start_time\",\"end_time\",\"pos_x\",\"pos_y\" ]"
   ]
  },
  {
   "cell_type": "code",
   "execution_count": 7,
   "id": "a8e23ef2",
   "metadata": {},
   "outputs": [],
   "source": [
    "data.columns=col_lis"
   ]
  },
  {
   "cell_type": "code",
   "execution_count": 8,
   "id": "e07d48f4",
   "metadata": {},
   "outputs": [
    {
     "data": {
      "text/html": [
       "<div>\n",
       "<style scoped>\n",
       "    .dataframe tbody tr th:only-of-type {\n",
       "        vertical-align: middle;\n",
       "    }\n",
       "\n",
       "    .dataframe tbody tr th {\n",
       "        vertical-align: top;\n",
       "    }\n",
       "\n",
       "    .dataframe thead th {\n",
       "        text-align: right;\n",
       "    }\n",
       "</style>\n",
       "<table border=\"1\" class=\"dataframe\">\n",
       "  <thead>\n",
       "    <tr style=\"text-align: right;\">\n",
       "      <th></th>\n",
       "      <th>link</th>\n",
       "      <th>start_time</th>\n",
       "      <th>end_time</th>\n",
       "      <th>pos_x</th>\n",
       "      <th>pos_y</th>\n",
       "    </tr>\n",
       "  </thead>\n",
       "  <tbody>\n",
       "    <tr>\n",
       "      <th>0</th>\n",
       "      <td>H1ulMfj5wRY</td>\n",
       "      <td>112.320000</td>\n",
       "      <td>116.940000</td>\n",
       "      <td>0.112500</td>\n",
       "      <td>0.345833</td>\n",
       "    </tr>\n",
       "    <tr>\n",
       "      <th>1</th>\n",
       "      <td>-wuxbgMRIWs</td>\n",
       "      <td>30.030000</td>\n",
       "      <td>36.745044</td>\n",
       "      <td>0.744531</td>\n",
       "      <td>0.211111</td>\n",
       "    </tr>\n",
       "    <tr>\n",
       "      <th>2</th>\n",
       "      <td>GNRPRH-E-sI</td>\n",
       "      <td>30.230200</td>\n",
       "      <td>38.171467</td>\n",
       "      <td>0.333594</td>\n",
       "      <td>0.494444</td>\n",
       "    </tr>\n",
       "    <tr>\n",
       "      <th>3</th>\n",
       "      <td>VvcwAGkSy2o</td>\n",
       "      <td>240.200000</td>\n",
       "      <td>253.366667</td>\n",
       "      <td>0.491667</td>\n",
       "      <td>0.372222</td>\n",
       "    </tr>\n",
       "    <tr>\n",
       "      <th>4</th>\n",
       "      <td>XoboRQKD-KY</td>\n",
       "      <td>219.088533</td>\n",
       "      <td>222.088533</td>\n",
       "      <td>0.239844</td>\n",
       "      <td>0.248611</td>\n",
       "    </tr>\n",
       "    <tr>\n",
       "      <th>...</th>\n",
       "      <td>...</td>\n",
       "      <td>...</td>\n",
       "      <td>...</td>\n",
       "      <td>...</td>\n",
       "      <td>...</td>\n",
       "    </tr>\n",
       "    <tr>\n",
       "      <th>183267</th>\n",
       "      <td>80pU4f5HFmg</td>\n",
       "      <td>211.000000</td>\n",
       "      <td>219.280000</td>\n",
       "      <td>0.488542</td>\n",
       "      <td>0.296296</td>\n",
       "    </tr>\n",
       "    <tr>\n",
       "      <th>183268</th>\n",
       "      <td>FJ3gPk5Cv-g</td>\n",
       "      <td>294.330367</td>\n",
       "      <td>297.330367</td>\n",
       "      <td>0.598958</td>\n",
       "      <td>0.361111</td>\n",
       "    </tr>\n",
       "    <tr>\n",
       "      <th>183269</th>\n",
       "      <td>LX6_rQjQDZA</td>\n",
       "      <td>234.200633</td>\n",
       "      <td>239.973067</td>\n",
       "      <td>0.110156</td>\n",
       "      <td>0.136111</td>\n",
       "    </tr>\n",
       "    <tr>\n",
       "      <th>183270</th>\n",
       "      <td>79RVP6WqHR4</td>\n",
       "      <td>240.006433</td>\n",
       "      <td>243.042800</td>\n",
       "      <td>0.283854</td>\n",
       "      <td>0.230556</td>\n",
       "    </tr>\n",
       "    <tr>\n",
       "      <th>183271</th>\n",
       "      <td>LsmFkm22UT0</td>\n",
       "      <td>135.880000</td>\n",
       "      <td>145.000000</td>\n",
       "      <td>0.214062</td>\n",
       "      <td>0.273148</td>\n",
       "    </tr>\n",
       "  </tbody>\n",
       "</table>\n",
       "<p>183272 rows × 5 columns</p>\n",
       "</div>"
      ],
      "text/plain": [
       "               link  start_time    end_time     pos_x     pos_y\n",
       "0       H1ulMfj5wRY  112.320000  116.940000  0.112500  0.345833\n",
       "1       -wuxbgMRIWs   30.030000   36.745044  0.744531  0.211111\n",
       "2       GNRPRH-E-sI   30.230200   38.171467  0.333594  0.494444\n",
       "3       VvcwAGkSy2o  240.200000  253.366667  0.491667  0.372222\n",
       "4       XoboRQKD-KY  219.088533  222.088533  0.239844  0.248611\n",
       "...             ...         ...         ...       ...       ...\n",
       "183267  80pU4f5HFmg  211.000000  219.280000  0.488542  0.296296\n",
       "183268  FJ3gPk5Cv-g  294.330367  297.330367  0.598958  0.361111\n",
       "183269  LX6_rQjQDZA  234.200633  239.973067  0.110156  0.136111\n",
       "183270  79RVP6WqHR4  240.006433  243.042800  0.283854  0.230556\n",
       "183271  LsmFkm22UT0  135.880000  145.000000  0.214062  0.273148\n",
       "\n",
       "[183272 rows x 5 columns]"
      ]
     },
     "execution_count": 8,
     "metadata": {},
     "output_type": "execute_result"
    }
   ],
   "source": [
    "data"
   ]
  },
  {
   "cell_type": "code",
   "execution_count": 9,
   "id": "4b7560c4",
   "metadata": {},
   "outputs": [
    {
     "name": "stdout",
     "output_type": "stream",
     "text": [
      "Requirement already satisfied: librosa in /Users/shu/.pyenv/versions/3.8.12/envs/cocktail_effect/lib/python3.8/site-packages (0.9.1)\n",
      "Requirement already satisfied: numpy>=1.17.0 in /Users/shu/.pyenv/versions/3.8.12/envs/cocktail_effect/lib/python3.8/site-packages (from librosa) (1.19.5)\n",
      "Requirement already satisfied: decorator>=4.0.10 in /Users/shu/.pyenv/versions/3.8.12/envs/cocktail_effect/lib/python3.8/site-packages (from librosa) (5.1.1)\n",
      "Requirement already satisfied: resampy>=0.2.2 in /Users/shu/.pyenv/versions/3.8.12/envs/cocktail_effect/lib/python3.8/site-packages (from librosa) (0.2.2)\n",
      "Requirement already satisfied: soundfile>=0.10.2 in /Users/shu/.pyenv/versions/3.8.12/envs/cocktail_effect/lib/python3.8/site-packages (from librosa) (0.10.3.post1)\n",
      "Requirement already satisfied: pooch>=1.0 in /Users/shu/.pyenv/versions/3.8.12/envs/cocktail_effect/lib/python3.8/site-packages (from librosa) (1.6.0)\n",
      "Requirement already satisfied: scikit-learn>=0.19.1 in /Users/shu/.pyenv/versions/3.8.12/envs/cocktail_effect/lib/python3.8/site-packages (from librosa) (1.0.2)\n",
      "Requirement already satisfied: packaging>=20.0 in /Users/shu/.pyenv/versions/3.8.12/envs/cocktail_effect/lib/python3.8/site-packages (from librosa) (21.3)\n",
      "Requirement already satisfied: joblib>=0.14 in /Users/shu/.pyenv/versions/3.8.12/envs/cocktail_effect/lib/python3.8/site-packages (from librosa) (1.1.0)\n",
      "Requirement already satisfied: audioread>=2.1.5 in /Users/shu/.pyenv/versions/3.8.12/envs/cocktail_effect/lib/python3.8/site-packages (from librosa) (2.1.9)\n",
      "Requirement already satisfied: scipy>=1.2.0 in /Users/shu/.pyenv/versions/3.8.12/envs/cocktail_effect/lib/python3.8/site-packages (from librosa) (1.8.0)\n",
      "Requirement already satisfied: numba>=0.45.1 in /Users/shu/.pyenv/versions/3.8.12/envs/cocktail_effect/lib/python3.8/site-packages (from librosa) (0.54.0)\n",
      "Requirement already satisfied: llvmlite<0.38,>=0.37.0rc1 in /Users/shu/.pyenv/versions/3.8.12/envs/cocktail_effect/lib/python3.8/site-packages (from numba>=0.45.1->librosa) (0.37.0)\n",
      "Requirement already satisfied: setuptools in /Users/shu/.pyenv/versions/3.8.12/envs/cocktail_effect/lib/python3.8/site-packages (from numba>=0.45.1->librosa) (56.0.0)\n",
      "Requirement already satisfied: pyparsing!=3.0.5,>=2.0.2 in /Users/shu/.pyenv/versions/3.8.12/envs/cocktail_effect/lib/python3.8/site-packages (from packaging>=20.0->librosa) (3.0.7)\n",
      "Requirement already satisfied: appdirs>=1.3.0 in /Users/shu/.pyenv/versions/3.8.12/envs/cocktail_effect/lib/python3.8/site-packages (from pooch>=1.0->librosa) (1.4.4)\n",
      "Requirement already satisfied: requests>=2.19.0 in /Users/shu/.pyenv/versions/3.8.12/envs/cocktail_effect/lib/python3.8/site-packages (from pooch>=1.0->librosa) (2.27.1)\n",
      "Requirement already satisfied: six>=1.3 in /Users/shu/.pyenv/versions/3.8.12/envs/cocktail_effect/lib/python3.8/site-packages (from resampy>=0.2.2->librosa) (1.16.0)\n",
      "Requirement already satisfied: threadpoolctl>=2.0.0 in /Users/shu/.pyenv/versions/3.8.12/envs/cocktail_effect/lib/python3.8/site-packages (from scikit-learn>=0.19.1->librosa) (3.1.0)\n",
      "Requirement already satisfied: cffi>=1.0 in /Users/shu/.pyenv/versions/3.8.12/envs/cocktail_effect/lib/python3.8/site-packages (from soundfile>=0.10.2->librosa) (1.15.0)\n",
      "Requirement already satisfied: pycparser in /Users/shu/.pyenv/versions/3.8.12/envs/cocktail_effect/lib/python3.8/site-packages (from cffi>=1.0->soundfile>=0.10.2->librosa) (2.21)\n",
      "Requirement already satisfied: certifi>=2017.4.17 in /Users/shu/.pyenv/versions/3.8.12/envs/cocktail_effect/lib/python3.8/site-packages (from requests>=2.19.0->pooch>=1.0->librosa) (2021.10.8)\n",
      "Requirement already satisfied: charset-normalizer~=2.0.0 in /Users/shu/.pyenv/versions/3.8.12/envs/cocktail_effect/lib/python3.8/site-packages (from requests>=2.19.0->pooch>=1.0->librosa) (2.0.12)\n",
      "Requirement already satisfied: urllib3<1.27,>=1.21.1 in /Users/shu/.pyenv/versions/3.8.12/envs/cocktail_effect/lib/python3.8/site-packages (from requests>=2.19.0->pooch>=1.0->librosa) (1.26.8)\n",
      "Requirement already satisfied: idna<4,>=2.5 in /Users/shu/.pyenv/versions/3.8.12/envs/cocktail_effect/lib/python3.8/site-packages (from requests>=2.19.0->pooch>=1.0->librosa) (3.3)\n"
     ]
    }
   ],
   "source": [
    "! pip install librosa"
   ]
  },
  {
   "cell_type": "code",
   "execution_count": 10,
   "id": "df2bf8e2",
   "metadata": {},
   "outputs": [],
   "source": [
    "import os\n",
    "import librosa\n",
    "import scipy.io.wavfile as wavfile\n",
    "import numpy as np"
   ]
  },
  {
   "cell_type": "code",
   "execution_count": 11,
   "id": "9a35efbe",
   "metadata": {},
   "outputs": [],
   "source": [
    "def mkdir(dir_name,loc=''):\n",
    "    # make directory use command line\n",
    "    # dir_name  | name of the directory\n",
    "    # loc       | the location for the directory to be created\n",
    "    command = \"\"\n",
    "    if loc != '':\n",
    "        command += \"cd %s\" % loc\n",
    "    command += 'mkdir ' + dir_name\n",
    "    os.system(command)"
   ]
  },
  {
   "cell_type": "code",
   "execution_count": null,
   "id": "ae7d316a",
   "metadata": {},
   "outputs": [],
   "source": []
  },
  {
   "cell_type": "code",
   "execution_count": 28,
   "id": "4a4f4d57",
   "metadata": {},
   "outputs": [
    {
     "name": "stderr",
     "output_type": "stream",
     "text": [
      "mkdir: download: File exists\n"
     ]
    }
   ],
   "source": [
    "mkdir(\"download\")"
   ]
  },
  {
   "cell_type": "code",
   "execution_count": 19,
   "id": "0985d9a5",
   "metadata": {},
   "outputs": [
    {
     "name": "stdout",
     "output_type": "stream",
     "text": [
      "\u001b[01;34m.\u001b[00m\r\n",
      "├── MANIFEST.in\r\n",
      "├── Makefile\r\n",
      "├── README.md\r\n",
      "├── \u001b[01;34maudio\u001b[00m\r\n",
      "│   ├── audio_downloader.py\r\n",
      "│   └── cocktail_effect-run\r\n",
      "├── \u001b[01;34mcocktail_effect\u001b[00m\r\n",
      "│   ├── __init__.py\r\n",
      "│   └── \u001b[01;34mdata\u001b[00m\r\n",
      "├── collect\\ data.ipynb\r\n",
      "├── \u001b[01;34mdownload\u001b[00m\r\n",
      "├── \u001b[01;34mlib\u001b[00m\r\n",
      "│   └── AVHandler.py\r\n",
      "├── \u001b[01;34mnotebooks\u001b[00m\r\n",
      "├── \u001b[01;34mraw_data\u001b[00m\r\n",
      "│   ├── avspeech_test.csv\r\n",
      "│   └── avspeech_train.csv\r\n",
      "├── requirements.txt\r\n",
      "├── setup.py\r\n",
      "└── \u001b[01;34mtests\u001b[00m\r\n",
      "    └── __init__.py\r\n",
      "\r\n",
      "8 directories, 13 files\r\n"
     ]
    }
   ],
   "source": [
    "!tree"
   ]
  },
  {
   "cell_type": "code",
   "execution_count": 12,
   "id": "f26a3947",
   "metadata": {},
   "outputs": [],
   "source": [
    "#please add module librosa youtube-dl ffmpeg\n",
    "\n",
    "\n",
    "def m_link(youtube_id):\n",
    "    # return the youtube actual link\n",
    "    link = 'https://www.youtube.com/watch?v='+youtube_id\n",
    "    return link\n",
    "\n",
    "def download(loc,name,link,sr=16000,type='audio'):\n",
    "    # download audio from the link\n",
    "    # loc   | the location for downloaded file\n",
    "    # name  | the name for the audio file\n",
    "    # link  | the link to downloaded by youtube-dl\n",
    "    # type  | the type of downloaded file\n",
    "\n",
    "\n",
    "    if type == 'audio':\n",
    "        # download wav file from the youtube link\n",
    "        command = 'cd %s;' % loc\n",
    "        command += 'youtube-dl -x --audio-format wav -o o' + name + '.wav ' + link + ';'\n",
    "        command += 'ffmpeg -i o%s.wav -ar %d -ac 1 %s.wav;' % (name,sr,name)\n",
    "        command += 'rm o%s.wav' % name\n",
    "        os.system(command)\n"
   ]
  },
  {
   "cell_type": "code",
   "execution_count": 9,
   "id": "8d3e9607",
   "metadata": {},
   "outputs": [
    {
     "data": {
      "text/plain": [
       "'https://www.youtube.com/watch?v=H1ulMfj5wRY'"
      ]
     },
     "execution_count": 9,
     "metadata": {},
     "output_type": "execute_result"
    }
   ],
   "source": [
    "m_link(\"H1ulMfj5wRY\")"
   ]
  },
  {
   "cell_type": "code",
   "execution_count": 42,
   "id": "05045c3c",
   "metadata": {},
   "outputs": [],
   "source": [
    "loc=\"./download/\""
   ]
  },
  {
   "cell_type": "code",
   "execution_count": 32,
   "id": "022cfc51",
   "metadata": {},
   "outputs": [
    {
     "name": "stdout",
     "output_type": "stream",
     "text": [
      "[youtube] H1ulMfj5wRY: Downloading webpage\n",
      "[download] Destination: otest_AV_filen_ame.wav\n",
      "[download] 100% of 37.35MiB in 07:5559KiB/s ETA 00:00102\n"
     ]
    },
    {
     "name": "stderr",
     "output_type": "stream",
     "text": [
      "ERROR: ffprobe/avprobe and ffmpeg/avconv not found. Please install one.\n",
      "sh: ffmpeg: command not found\n"
     ]
    }
   ],
   "source": [
    "download(loc,\"test_AV_filen_ame\",m_link(\"H1ulMfj5wRY\"))"
   ]
  },
  {
   "cell_type": "code",
   "execution_count": 19,
   "id": "89b84b60",
   "metadata": {},
   "outputs": [
    {
     "name": "stdout",
     "output_type": "stream",
     "text": [
      "Requirement already satisfied: Numba in /Users/shu/.pyenv/versions/3.8.12/envs/cocktail_effect/lib/python3.8/site-packages (0.54.0)\n",
      "Requirement already satisfied: setuptools in /Users/shu/.pyenv/versions/3.8.12/envs/cocktail_effect/lib/python3.8/site-packages (from Numba) (56.0.0)\n",
      "Requirement already satisfied: numpy<1.21,>=1.17 in /Users/shu/.pyenv/versions/3.8.12/envs/cocktail_effect/lib/python3.8/site-packages (from Numba) (1.19.5)\n",
      "Requirement already satisfied: llvmlite<0.38,>=0.37.0rc1 in /Users/shu/.pyenv/versions/3.8.12/envs/cocktail_effect/lib/python3.8/site-packages (from Numba) (0.37.0)\n",
      "Requirement already satisfied: numpy==1.19.5 in /Users/shu/.pyenv/versions/3.8.12/envs/cocktail_effect/lib/python3.8/site-packages (1.19.5)\n",
      "Requirement already satisfied: numba==0.54 in /Users/shu/.pyenv/versions/3.8.12/envs/cocktail_effect/lib/python3.8/site-packages (0.54.0)\n",
      "Requirement already satisfied: numpy<1.21,>=1.17 in /Users/shu/.pyenv/versions/3.8.12/envs/cocktail_effect/lib/python3.8/site-packages (from numba==0.54) (1.19.5)\n",
      "Requirement already satisfied: llvmlite<0.38,>=0.37.0rc1 in /Users/shu/.pyenv/versions/3.8.12/envs/cocktail_effect/lib/python3.8/site-packages (from numba==0.54) (0.37.0)\n",
      "Requirement already satisfied: setuptools in /Users/shu/.pyenv/versions/3.8.12/envs/cocktail_effect/lib/python3.8/site-packages (from numba==0.54) (56.0.0)\n",
      "Collecting youtube-dl\n",
      "  Using cached youtube_dl-2021.12.17-py2.py3-none-any.whl (1.9 MB)\n",
      "Installing collected packages: youtube-dl\n",
      "Successfully installed youtube-dl-2021.12.17\n"
     ]
    }
   ],
   "source": [
    "! pip install Numba\n",
    "! pip install numpy==1.19.5\n",
    "!pip install numba==0.54\n",
    "!python -c \"import numba\"\n",
    "! pip install  youtube-dl"
   ]
  },
  {
   "cell_type": "code",
   "execution_count": 71,
   "id": "d975cb05",
   "metadata": {},
   "outputs": [],
   "source": [
    "# Before running, make sure avspeech_train.csv and avspeech_test.csv are in catalog.\n",
    "# if not, see the requirement.txt\n",
    "# download and preprocess the data from AVspeech dataset\n",
    "import sys\n",
    "sys.path.append(\"../lib\")\n",
    "import lib.AVHandler as avh\n",
    "import pandas as pd\n"
   ]
  },
  {
   "cell_type": "code",
   "execution_count": 54,
   "id": "7ffc74f4",
   "metadata": {},
   "outputs": [
    {
     "name": "stderr",
     "output_type": "stream",
     "text": [
      "mkdir: audio_train: File exists\n"
     ]
    },
    {
     "name": "stdout",
     "output_type": "stream",
     "text": [
      "[youtube] xbgfxIc-nbs: Downloading webpage\n",
      "[download] Destination: oaudio_train10.wav\n",
      "[download] 100% of 5.09MiB in 01:1501KiB/s ETA 00:00\n"
     ]
    },
    {
     "name": "stderr",
     "output_type": "stream",
     "text": [
      "WARNING: xbgfxIc-nbs: writing DASH m4a. Only some players support this container. Install ffmpeg or avconv to fix this automatically.\n",
      "ERROR: ffprobe/avprobe and ffmpeg/avconv not found. Please install one.\n",
      "sh: ffmpeg: command not found\n"
     ]
    },
    {
     "ename": "AttributeError",
     "evalue": "module 'lib.AVHandler' has no attribute 'cut'",
     "output_type": "error",
     "traceback": [
      "\u001b[0;31m---------------------------------------------------------------------------\u001b[0m",
      "\u001b[0;31mAttributeError\u001b[0m                            Traceback (most recent call last)",
      "Input \u001b[0;32mIn [54]\u001b[0m, in \u001b[0;36m<module>\u001b[0;34m\u001b[0m\n\u001b[1;32m     24\u001b[0m \u001b[38;5;66;03m#cat_test = pd.read_csv('catalog/avspeech_test.csv', names=header)\u001b[39;00m\n\u001b[1;32m     25\u001b[0m \n\u001b[1;32m     26\u001b[0m \u001b[38;5;66;03m# create 80000-90000 audios data from 290K\u001b[39;00m\n\u001b[1;32m     27\u001b[0m avh\u001b[38;5;241m.\u001b[39mmkdir(\u001b[38;5;124m'\u001b[39m\u001b[38;5;124maudio_train\u001b[39m\u001b[38;5;124m'\u001b[39m)\n\u001b[0;32m---> 28\u001b[0m \u001b[43mm_audio\u001b[49m\u001b[43m(\u001b[49m\u001b[38;5;124;43m'\u001b[39;49m\u001b[38;5;124;43maudio_train\u001b[39;49m\u001b[38;5;124;43m'\u001b[39;49m\u001b[43m,\u001b[49m\u001b[38;5;124;43m'\u001b[39;49m\u001b[38;5;124;43maudio_train\u001b[39;49m\u001b[38;5;124;43m'\u001b[39;49m\u001b[43m,\u001b[49m\u001b[43mcat_train\u001b[49m\u001b[43m,\u001b[49m\u001b[38;5;241;43m10\u001b[39;49m\u001b[43m,\u001b[49m\u001b[38;5;241;43m20\u001b[39;49m\u001b[43m)\u001b[49m\n",
      "Input \u001b[0;32mIn [54]\u001b[0m, in \u001b[0;36mm_audio\u001b[0;34m(loc, name, cat, start_idx, end_idx)\u001b[0m\n\u001b[1;32m     18\u001b[0m end_time \u001b[38;5;241m=\u001b[39m start_time \u001b[38;5;241m+\u001b[39m \u001b[38;5;241m3.0\u001b[39m\n\u001b[1;32m     19\u001b[0m avh\u001b[38;5;241m.\u001b[39mdownload(loc,f_name,link)\n\u001b[0;32m---> 20\u001b[0m \u001b[43mavh\u001b[49m\u001b[38;5;241;43m.\u001b[39;49m\u001b[43mcut\u001b[49m(loc,f_name,start_time,end_time)\n",
      "\u001b[0;31mAttributeError\u001b[0m: module 'lib.AVHandler' has no attribute 'cut'"
     ]
    }
   ],
   "source": [
    "#default\n",
    "def m_link(youtube_id):\n",
    "    # return the youtube actual link\n",
    "    link = 'https://www.youtube.com/watch?v='+youtube_id\n",
    "    return link\n",
    "\n",
    "def m_audio(loc,name,cat,start_idx,end_idx):\n",
    "    # make concatenated audio following by the catalog from AVSpeech\n",
    "    # loc       | the location for file to store\n",
    "    # name      | name for the wav mix file\n",
    "    # cat       | the catalog with audio link and time\n",
    "    # start_idx | the starting index of the audio to download and concatenate\n",
    "    # end_idx   | the ending index of the audio to download and concatenate\n",
    "\n",
    "    for i in range(start_idx,end_idx):\n",
    "        f_name = name+str(i)\n",
    "        link = m_link(cat.loc[i,'link'])\n",
    "        start_time = cat.loc[i,'start_time']\n",
    "        end_time = start_time + 3.0\n",
    "        avh.download(loc,f_name,link)\n",
    "        avh.cut(loc,f_name,start_time,end_time)\n",
    "\n",
    "header = [\"link\", \"start_time\", \"end_time\", \"x_coord\", \"y_coord\"]\n",
    "cat_train = pd.read_csv('./raw_data/avspeech_train.csv', names=header)\n",
    "#cat_test = pd.read_csv('catalog/avspeech_test.csv', names=header)\n",
    "\n",
    "# create 80000-90000 audios data from 290K\n",
    "avh.mkdir('audio_train')\n",
    "m_audio('audio_train','audio_train',cat_train,10,20)\n"
   ]
  },
  {
   "cell_type": "code",
   "execution_count": 72,
   "id": "bdc4b98b",
   "metadata": {},
   "outputs": [],
   "source": [
    "#class\n",
    "class AudioDownloader(object):\n",
    "    def __init__(self,youtube_id, loc, name, cat, start_idx, end_idx):\n",
    "        \"This class helps with downloading the audio\"\n",
    "        self.youtube_id = youtube_id\n",
    "        self.loc = loc\n",
    "        self.name = name\n",
    "        self.cat = cat\n",
    "        self.start_idx = start_idx\n",
    "        self.end_idx = end_idx\n",
    "        \n",
    "    def m_link(self):\n",
    "    # return the youtube actual link\n",
    "        link ='https://www.youtube.com/watch?v='+self.youtube_id\n",
    "        \n",
    "        return link\n",
    "\n",
    "    def m_audio(self):\n",
    "        # make concatenated audio following by the catalog from AVSpeech\n",
    "        # loc       | the location for file to store\n",
    "        # name      | name for the wav mix file\n",
    "        # cat       | the catalog with audio link and time\n",
    "        # start_idx | the starting index of the audio to download and concatenate\n",
    "        # end_idx   | the ending index of the audio to download and concatenate\n",
    "    \n",
    "        for i in range(self.start_idx,self.end_idx):\n",
    "            f_name = self.name+str(i)\n",
    "            link = m_link(self.cat.loc[i,'link'])\n",
    "            start_time = self.cat.loc[i,'start_time']\n",
    "            end_time = start_time + 3.0\n",
    "            avh.download(self.loc,f_name,link)\n",
    "            avh.cut(self.loc,f_name,start_time,end_time)\n",
    "            \n",
    "    def collect_audio(self):   \n",
    "        header = [\"link\", \"start_time\", \"end_time\", \"x_coord\", \"y_coord\"]\n",
    "        cat_train = pd.read_csv('./raw_data/avspeech_train.csv', names=header)\n",
    "        #cat_test = pd.read_csv('catalog/avspeech_test.csv', names=header)\n",
    "        \n",
    "        # create 80000-90000 audios data from 290K\n",
    "        avh.mkdir(self.loc)\n",
    "        m_audio(self.loc,self.loc,cat_train,1,3)"
   ]
  },
  {
   "cell_type": "code",
   "execution_count": 67,
   "id": "3ab7ecaa",
   "metadata": {},
   "outputs": [
    {
     "name": "stdout",
     "output_type": "stream",
     "text": [
      "Collecting ffmpeg\n",
      "  Downloading ffmpeg-1.4.tar.gz (5.1 kB)\n",
      "  Preparing metadata (setup.py) ... \u001b[?25ldone\n",
      "\u001b[?25hUsing legacy 'setup.py install' for ffmpeg, since package 'wheel' is not installed.\n",
      "Installing collected packages: ffmpeg\n",
      "  Running setup.py install for ffmpeg ... \u001b[?25ldone\n",
      "\u001b[?25hSuccessfully installed ffmpeg-1.4\n"
     ]
    }
   ],
   "source": [
    "! pip install ffmpeg\n"
   ]
  },
  {
   "cell_type": "code",
   "execution_count": null,
   "id": "a530a059",
   "metadata": {},
   "outputs": [
    {
     "name": "stderr",
     "output_type": "stream",
     "text": [
      "mkdir: ./audio_train: File exists\n"
     ]
    },
    {
     "name": "stdout",
     "output_type": "stream",
     "text": [
      "[youtube] AvWWVOgaMlk: Downloading webpage\n",
      "[download] Destination: o./audio_train1.wav\n",
      "[download]  83.2% of 19.50MiB at 61.69KiB/s ETA 00:54:02"
     ]
    }
   ],
   "source": [
    "youtube_id=\"H1ulMfj5wRY\"\n",
    "loc=\"./audio_train\"\n",
    "name=\"wavmixfile\"\n",
    "cat=4\n",
    "start_idx=1\n",
    "end_idx=5\n",
    "\n",
    "audio_class=AudioDownloader(youtube_id, loc, name, cat, start_idx, end_idx)\n",
    "audio_class.collect_audio()"
   ]
  },
  {
   "cell_type": "code",
   "execution_count": null,
   "id": "d717b48a",
   "metadata": {},
   "outputs": [],
   "source": []
  }
 ],
 "metadata": {
  "kernelspec": {
   "display_name": "Python 3 (ipykernel)",
   "language": "python",
   "name": "python3"
  },
  "language_info": {
   "codemirror_mode": {
    "name": "ipython",
    "version": 3
   },
   "file_extension": ".py",
   "mimetype": "text/x-python",
   "name": "python",
   "nbconvert_exporter": "python",
   "pygments_lexer": "ipython3",
   "version": "3.8.12"
  },
  "toc": {
   "base_numbering": 1,
   "nav_menu": {},
   "number_sections": true,
   "sideBar": true,
   "skip_h1_title": false,
   "title_cell": "Table of Contents",
   "title_sidebar": "Contents",
   "toc_cell": false,
   "toc_position": {},
   "toc_section_display": true,
   "toc_window_display": false
  }
 },
 "nbformat": 4,
 "nbformat_minor": 5
}
